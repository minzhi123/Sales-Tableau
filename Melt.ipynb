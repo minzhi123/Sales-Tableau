{
 "cells": [
  {
   "cell_type": "code",
   "execution_count": 1,
   "metadata": {},
   "outputs": [],
   "source": [
    "import numpy as np\n",
    "import pandas as pd\n",
    "import re\n",
    "import collections"
   ]
  },
  {
   "cell_type": "code",
   "execution_count": null,
   "metadata": {},
   "outputs": [],
   "source": [
    "xls = pd.ExcelFile('Sales_Data.xlsx')\n",
    "MCD = pd.read_excel(xls, 'Channel Sales MCD')\n",
    "MCL = pd.read_excel(xls, 'Channel Sales MCL')"
   ]
  },
  {
   "cell_type": "code",
   "execution_count": 15,
   "metadata": {},
   "outputs": [
    {
     "data": {
      "text/html": [
       "<div>\n",
       "<style scoped>\n",
       "    .dataframe tbody tr th:only-of-type {\n",
       "        vertical-align: middle;\n",
       "    }\n",
       "\n",
       "    .dataframe tbody tr th {\n",
       "        vertical-align: top;\n",
       "    }\n",
       "\n",
       "    .dataframe thead th {\n",
       "        text-align: right;\n",
       "    }\n",
       "</style>\n",
       "<table border=\"1\" class=\"dataframe\">\n",
       "  <thead>\n",
       "    <tr style=\"text-align: right;\">\n",
       "      <th></th>\n",
       "      <th>CHANNELS</th>\n",
       "      <th>COMPANY</th>\n",
       "      <th>OFFICE</th>\n",
       "      <th>JAN</th>\n",
       "      <th>FEB</th>\n",
       "      <th>MAR</th>\n",
       "      <th>APR</th>\n",
       "      <th>MAY</th>\n",
       "      <th>JUN</th>\n",
       "      <th>JUL</th>\n",
       "      <th>AUG</th>\n",
       "      <th>SEP</th>\n",
       "      <th>OCT</th>\n",
       "      <th>NOV</th>\n",
       "      <th>DEC</th>\n",
       "      <th>TOTAL</th>\n",
       "    </tr>\n",
       "  </thead>\n",
       "  <tbody>\n",
       "    <tr>\n",
       "      <th>0</th>\n",
       "      <td>Direct Channels</td>\n",
       "      <td>CEC</td>\n",
       "      <td>Head Office</td>\n",
       "      <td>69.0</td>\n",
       "      <td>141.0</td>\n",
       "      <td>121.0</td>\n",
       "      <td>35.0</td>\n",
       "      <td>28.0</td>\n",
       "      <td>93.0</td>\n",
       "      <td>63.0</td>\n",
       "      <td>121.0</td>\n",
       "      <td>150.0</td>\n",
       "      <td>195.0</td>\n",
       "      <td>561.0</td>\n",
       "      <td>431.0</td>\n",
       "      <td>2008.0</td>\n",
       "    </tr>\n",
       "    <tr>\n",
       "      <th>1</th>\n",
       "      <td>Direct Channels</td>\n",
       "      <td>CEC</td>\n",
       "      <td>Cebu</td>\n",
       "      <td>12.0</td>\n",
       "      <td>17.0</td>\n",
       "      <td>9.0</td>\n",
       "      <td>9.0</td>\n",
       "      <td>4.0</td>\n",
       "      <td>6.0</td>\n",
       "      <td>102.0</td>\n",
       "      <td>46.0</td>\n",
       "      <td>122.0</td>\n",
       "      <td>227.0</td>\n",
       "      <td>257.0</td>\n",
       "      <td>139.0</td>\n",
       "      <td>950.0</td>\n",
       "    </tr>\n",
       "    <tr>\n",
       "      <th>2</th>\n",
       "      <td>Direct Channels</td>\n",
       "      <td>CEC</td>\n",
       "      <td>Cagayan de Oro</td>\n",
       "      <td>44.0</td>\n",
       "      <td>16.0</td>\n",
       "      <td>6.0</td>\n",
       "      <td>5.0</td>\n",
       "      <td>22.0</td>\n",
       "      <td>105.0</td>\n",
       "      <td>10.0</td>\n",
       "      <td>32.0</td>\n",
       "      <td>71.0</td>\n",
       "      <td>160.0</td>\n",
       "      <td>171.0</td>\n",
       "      <td>51.0</td>\n",
       "      <td>693.0</td>\n",
       "    </tr>\n",
       "    <tr>\n",
       "      <th>3</th>\n",
       "      <td>Direct Channels</td>\n",
       "      <td>CEC</td>\n",
       "      <td>Bacolod</td>\n",
       "      <td>6.0</td>\n",
       "      <td>26.0</td>\n",
       "      <td>12.0</td>\n",
       "      <td>3.0</td>\n",
       "      <td>14.0</td>\n",
       "      <td>9.0</td>\n",
       "      <td>NaN</td>\n",
       "      <td>51.0</td>\n",
       "      <td>73.0</td>\n",
       "      <td>31.0</td>\n",
       "      <td>7.0</td>\n",
       "      <td>4.0</td>\n",
       "      <td>236.0</td>\n",
       "    </tr>\n",
       "    <tr>\n",
       "      <th>4</th>\n",
       "      <td>Direct Channels</td>\n",
       "      <td>CEC</td>\n",
       "      <td>Gensan</td>\n",
       "      <td>NaN</td>\n",
       "      <td>NaN</td>\n",
       "      <td>14.0</td>\n",
       "      <td>1.0</td>\n",
       "      <td>4.0</td>\n",
       "      <td>11.0</td>\n",
       "      <td>3.0</td>\n",
       "      <td>16.0</td>\n",
       "      <td>23.0</td>\n",
       "      <td>57.0</td>\n",
       "      <td>12.0</td>\n",
       "      <td>32.0</td>\n",
       "      <td>173.0</td>\n",
       "    </tr>\n",
       "  </tbody>\n",
       "</table>\n",
       "</div>"
      ],
      "text/plain": [
       "          CHANNELS COMPANY          OFFICE   JAN    FEB    MAR   APR   MAY  \\\n",
       "0  Direct Channels     CEC     Head Office  69.0  141.0  121.0  35.0  28.0   \n",
       "1  Direct Channels     CEC            Cebu  12.0   17.0    9.0   9.0   4.0   \n",
       "2  Direct Channels     CEC  Cagayan de Oro  44.0   16.0    6.0   5.0  22.0   \n",
       "3  Direct Channels     CEC         Bacolod   6.0   26.0   12.0   3.0  14.0   \n",
       "4  Direct Channels     CEC          Gensan   NaN    NaN   14.0   1.0   4.0   \n",
       "\n",
       "     JUN    JUL    AUG    SEP    OCT    NOV    DEC   TOTAL  \n",
       "0   93.0   63.0  121.0  150.0  195.0  561.0  431.0  2008.0  \n",
       "1    6.0  102.0   46.0  122.0  227.0  257.0  139.0   950.0  \n",
       "2  105.0   10.0   32.0   71.0  160.0  171.0   51.0   693.0  \n",
       "3    9.0    NaN   51.0   73.0   31.0    7.0    4.0   236.0  \n",
       "4   11.0    3.0   16.0   23.0   57.0   12.0   32.0   173.0  "
      ]
     },
     "execution_count": 15,
     "metadata": {},
     "output_type": "execute_result"
    }
   ],
   "source": [
    "MCD.head()"
   ]
  },
  {
   "cell_type": "code",
   "execution_count": 16,
   "metadata": {},
   "outputs": [
    {
     "data": {
      "text/plain": [
       "CHANNELS     0\n",
       "COMPANY      0\n",
       "OFFICE      43\n",
       "JAN         52\n",
       "FEB         51\n",
       "MAR         51\n",
       "APR         54\n",
       "MAY         53\n",
       "JUN         52\n",
       "JUL         45\n",
       "AUG         36\n",
       "SEP         40\n",
       "OCT         38\n",
       "NOV         42\n",
       "DEC         38\n",
       "TOTAL        5\n",
       "dtype: int64"
      ]
     },
     "execution_count": 16,
     "metadata": {},
     "output_type": "execute_result"
    }
   ],
   "source": [
    "MCD.isnull().sum()"
   ]
  },
  {
   "cell_type": "code",
   "execution_count": 17,
   "metadata": {},
   "outputs": [],
   "source": [
    "MCD.drop(['TOTAL'], axis = 1, inplace = True)\n",
    "MCD = pd.melt(MCD, id_vars=['CHANNELS','COMPANY', 'OFFICE'], value_vars=['JAN','FEB','MAR','APR','MAY','JUN','JUL','AUG','SEP','OCT','NOV','DEC'])\n",
    "MCD['OFFICE'].fillna('Head Office', axis = 0, inplace = True)\n",
    "MCD.columns = ['Channels', 'Company', 'Office', 'Month', 'Sales']\n",
    "MCD.fillna(0, inplace = True)"
   ]
  },
  {
   "cell_type": "code",
   "execution_count": 18,
   "metadata": {},
   "outputs": [],
   "source": [
    "MCL.drop(['TOTAL'], axis = 1, inplace = True)\n",
    "MCL = pd.melt(MCL, id_vars=['CHANNELS','COMPANY', 'OFFICE'], value_vars=['JAN','FEB','MAR','APR','MAY','JUN','JUL','AUG','SEP','OCT','NOV','DEC'])\n",
    "MCL['OFFICE'].fillna('Head Office', axis = 0, inplace = True)\n",
    "MCL.columns = ['Channels', 'Company', 'Office', 'Month', 'Sales']\n",
    "MCL.fillna(0, inplace = True)"
   ]
  },
  {
   "cell_type": "code",
   "execution_count": 19,
   "metadata": {},
   "outputs": [],
   "source": [
    "MCD.to_csv('MCD_Sales.csv')\n",
    "MCL.to_csv('MCL_Sales.csv')"
   ]
  },
  {
   "cell_type": "code",
   "execution_count": 4,
   "metadata": {},
   "outputs": [],
   "source": [
    "MCD = pd.read_excel('MCD_Sales.xlsx')\n",
    "MCL = pd.read_excel('MCL_Sales.xlsx')"
   ]
  },
  {
   "cell_type": "code",
   "execution_count": 5,
   "metadata": {},
   "outputs": [
    {
     "data": {
      "text/html": [
       "<div>\n",
       "<style scoped>\n",
       "    .dataframe tbody tr th:only-of-type {\n",
       "        vertical-align: middle;\n",
       "    }\n",
       "\n",
       "    .dataframe tbody tr th {\n",
       "        vertical-align: top;\n",
       "    }\n",
       "\n",
       "    .dataframe thead th {\n",
       "        text-align: right;\n",
       "    }\n",
       "</style>\n",
       "<table border=\"1\" class=\"dataframe\">\n",
       "  <thead>\n",
       "    <tr style=\"text-align: right;\">\n",
       "      <th></th>\n",
       "      <th>Channels</th>\n",
       "      <th>Company</th>\n",
       "      <th>Office</th>\n",
       "      <th>Month</th>\n",
       "      <th>Sales</th>\n",
       "    </tr>\n",
       "  </thead>\n",
       "  <tbody>\n",
       "    <tr>\n",
       "      <th>0</th>\n",
       "      <td>Direct Channels</td>\n",
       "      <td>CEC</td>\n",
       "      <td>Head Office</td>\n",
       "      <td>JAN</td>\n",
       "      <td>69</td>\n",
       "    </tr>\n",
       "    <tr>\n",
       "      <th>1</th>\n",
       "      <td>Direct Channels</td>\n",
       "      <td>CEC</td>\n",
       "      <td>Cebu</td>\n",
       "      <td>JAN</td>\n",
       "      <td>12</td>\n",
       "    </tr>\n",
       "    <tr>\n",
       "      <th>2</th>\n",
       "      <td>Direct Channels</td>\n",
       "      <td>CEC</td>\n",
       "      <td>Cagayan de Oro</td>\n",
       "      <td>JAN</td>\n",
       "      <td>44</td>\n",
       "    </tr>\n",
       "    <tr>\n",
       "      <th>3</th>\n",
       "      <td>Direct Channels</td>\n",
       "      <td>CEC</td>\n",
       "      <td>Bacolod</td>\n",
       "      <td>JAN</td>\n",
       "      <td>6</td>\n",
       "    </tr>\n",
       "    <tr>\n",
       "      <th>4</th>\n",
       "      <td>Direct Channels</td>\n",
       "      <td>CEC</td>\n",
       "      <td>Gensan</td>\n",
       "      <td>JAN</td>\n",
       "      <td>0</td>\n",
       "    </tr>\n",
       "  </tbody>\n",
       "</table>\n",
       "</div>"
      ],
      "text/plain": [
       "          Channels Company          Office Month  Sales\n",
       "0  Direct Channels     CEC     Head Office   JAN     69\n",
       "1  Direct Channels     CEC            Cebu   JAN     12\n",
       "2  Direct Channels     CEC  Cagayan de Oro   JAN     44\n",
       "3  Direct Channels     CEC         Bacolod   JAN      6\n",
       "4  Direct Channels     CEC          Gensan   JAN      0"
      ]
     },
     "execution_count": 5,
     "metadata": {},
     "output_type": "execute_result"
    }
   ],
   "source": [
    "MCD.head()"
   ]
  },
  {
   "cell_type": "code",
   "execution_count": 8,
   "metadata": {},
   "outputs": [],
   "source": [
    "MCD['Insurance Type'] = 'MCD'"
   ]
  },
  {
   "cell_type": "code",
   "execution_count": 9,
   "metadata": {},
   "outputs": [
    {
     "data": {
      "text/html": [
       "<div>\n",
       "<style scoped>\n",
       "    .dataframe tbody tr th:only-of-type {\n",
       "        vertical-align: middle;\n",
       "    }\n",
       "\n",
       "    .dataframe tbody tr th {\n",
       "        vertical-align: top;\n",
       "    }\n",
       "\n",
       "    .dataframe thead th {\n",
       "        text-align: right;\n",
       "    }\n",
       "</style>\n",
       "<table border=\"1\" class=\"dataframe\">\n",
       "  <thead>\n",
       "    <tr style=\"text-align: right;\">\n",
       "      <th></th>\n",
       "      <th>Channels</th>\n",
       "      <th>Company</th>\n",
       "      <th>Office</th>\n",
       "      <th>Month</th>\n",
       "      <th>Sales</th>\n",
       "      <th>Insurance Type</th>\n",
       "    </tr>\n",
       "  </thead>\n",
       "  <tbody>\n",
       "    <tr>\n",
       "      <th>0</th>\n",
       "      <td>Direct Channels</td>\n",
       "      <td>CEC</td>\n",
       "      <td>Head Office</td>\n",
       "      <td>JAN</td>\n",
       "      <td>69</td>\n",
       "      <td>MCD</td>\n",
       "    </tr>\n",
       "    <tr>\n",
       "      <th>1</th>\n",
       "      <td>Direct Channels</td>\n",
       "      <td>CEC</td>\n",
       "      <td>Cebu</td>\n",
       "      <td>JAN</td>\n",
       "      <td>12</td>\n",
       "      <td>MCD</td>\n",
       "    </tr>\n",
       "    <tr>\n",
       "      <th>2</th>\n",
       "      <td>Direct Channels</td>\n",
       "      <td>CEC</td>\n",
       "      <td>Cagayan de Oro</td>\n",
       "      <td>JAN</td>\n",
       "      <td>44</td>\n",
       "      <td>MCD</td>\n",
       "    </tr>\n",
       "    <tr>\n",
       "      <th>3</th>\n",
       "      <td>Direct Channels</td>\n",
       "      <td>CEC</td>\n",
       "      <td>Bacolod</td>\n",
       "      <td>JAN</td>\n",
       "      <td>6</td>\n",
       "      <td>MCD</td>\n",
       "    </tr>\n",
       "    <tr>\n",
       "      <th>4</th>\n",
       "      <td>Direct Channels</td>\n",
       "      <td>CEC</td>\n",
       "      <td>Gensan</td>\n",
       "      <td>JAN</td>\n",
       "      <td>0</td>\n",
       "      <td>MCD</td>\n",
       "    </tr>\n",
       "  </tbody>\n",
       "</table>\n",
       "</div>"
      ],
      "text/plain": [
       "          Channels Company          Office Month  Sales Insurance Type\n",
       "0  Direct Channels     CEC     Head Office   JAN     69            MCD\n",
       "1  Direct Channels     CEC            Cebu   JAN     12            MCD\n",
       "2  Direct Channels     CEC  Cagayan de Oro   JAN     44            MCD\n",
       "3  Direct Channels     CEC         Bacolod   JAN      6            MCD\n",
       "4  Direct Channels     CEC          Gensan   JAN      0            MCD"
      ]
     },
     "execution_count": 9,
     "metadata": {},
     "output_type": "execute_result"
    }
   ],
   "source": [
    "MCD.head()"
   ]
  },
  {
   "cell_type": "code",
   "execution_count": 11,
   "metadata": {},
   "outputs": [
    {
     "data": {
      "text/html": [
       "<div>\n",
       "<style scoped>\n",
       "    .dataframe tbody tr th:only-of-type {\n",
       "        vertical-align: middle;\n",
       "    }\n",
       "\n",
       "    .dataframe tbody tr th {\n",
       "        vertical-align: top;\n",
       "    }\n",
       "\n",
       "    .dataframe thead th {\n",
       "        text-align: right;\n",
       "    }\n",
       "</style>\n",
       "<table border=\"1\" class=\"dataframe\">\n",
       "  <thead>\n",
       "    <tr style=\"text-align: right;\">\n",
       "      <th></th>\n",
       "      <th>Insurance Type</th>\n",
       "      <th>Channels</th>\n",
       "      <th>Company</th>\n",
       "      <th>Office</th>\n",
       "      <th>Month</th>\n",
       "      <th>Sales</th>\n",
       "    </tr>\n",
       "  </thead>\n",
       "  <tbody>\n",
       "    <tr>\n",
       "      <th>0</th>\n",
       "      <td>MCD</td>\n",
       "      <td>Direct Channels</td>\n",
       "      <td>CEC</td>\n",
       "      <td>Head Office</td>\n",
       "      <td>JAN</td>\n",
       "      <td>69</td>\n",
       "    </tr>\n",
       "    <tr>\n",
       "      <th>1</th>\n",
       "      <td>MCD</td>\n",
       "      <td>Direct Channels</td>\n",
       "      <td>CEC</td>\n",
       "      <td>Cebu</td>\n",
       "      <td>JAN</td>\n",
       "      <td>12</td>\n",
       "    </tr>\n",
       "    <tr>\n",
       "      <th>2</th>\n",
       "      <td>MCD</td>\n",
       "      <td>Direct Channels</td>\n",
       "      <td>CEC</td>\n",
       "      <td>Cagayan de Oro</td>\n",
       "      <td>JAN</td>\n",
       "      <td>44</td>\n",
       "    </tr>\n",
       "    <tr>\n",
       "      <th>3</th>\n",
       "      <td>MCD</td>\n",
       "      <td>Direct Channels</td>\n",
       "      <td>CEC</td>\n",
       "      <td>Bacolod</td>\n",
       "      <td>JAN</td>\n",
       "      <td>6</td>\n",
       "    </tr>\n",
       "    <tr>\n",
       "      <th>4</th>\n",
       "      <td>MCD</td>\n",
       "      <td>Direct Channels</td>\n",
       "      <td>CEC</td>\n",
       "      <td>Gensan</td>\n",
       "      <td>JAN</td>\n",
       "      <td>0</td>\n",
       "    </tr>\n",
       "  </tbody>\n",
       "</table>\n",
       "</div>"
      ],
      "text/plain": [
       "  Insurance Type         Channels Company          Office Month  Sales\n",
       "0            MCD  Direct Channels     CEC     Head Office   JAN     69\n",
       "1            MCD  Direct Channels     CEC            Cebu   JAN     12\n",
       "2            MCD  Direct Channels     CEC  Cagayan de Oro   JAN     44\n",
       "3            MCD  Direct Channels     CEC         Bacolod   JAN      6\n",
       "4            MCD  Direct Channels     CEC          Gensan   JAN      0"
      ]
     },
     "execution_count": 11,
     "metadata": {},
     "output_type": "execute_result"
    }
   ],
   "source": [
    "cols = MCD.columns.tolist()\n",
    "cols = cols[-1:] + cols[:-1]\n",
    "MCD = MCD[cols]\n",
    "MCD.head()"
   ]
  },
  {
   "cell_type": "code",
   "execution_count": 12,
   "metadata": {},
   "outputs": [
    {
     "data": {
      "text/html": [
       "<div>\n",
       "<style scoped>\n",
       "    .dataframe tbody tr th:only-of-type {\n",
       "        vertical-align: middle;\n",
       "    }\n",
       "\n",
       "    .dataframe tbody tr th {\n",
       "        vertical-align: top;\n",
       "    }\n",
       "\n",
       "    .dataframe thead th {\n",
       "        text-align: right;\n",
       "    }\n",
       "</style>\n",
       "<table border=\"1\" class=\"dataframe\">\n",
       "  <thead>\n",
       "    <tr style=\"text-align: right;\">\n",
       "      <th></th>\n",
       "      <th>Insurance Type</th>\n",
       "      <th>Channels</th>\n",
       "      <th>Company</th>\n",
       "      <th>Office</th>\n",
       "      <th>Month</th>\n",
       "      <th>Sales</th>\n",
       "    </tr>\n",
       "  </thead>\n",
       "  <tbody>\n",
       "    <tr>\n",
       "      <th>0</th>\n",
       "      <td>MCL</td>\n",
       "      <td>Direct Channels</td>\n",
       "      <td>CEC</td>\n",
       "      <td>Head Office</td>\n",
       "      <td>JAN</td>\n",
       "      <td>6</td>\n",
       "    </tr>\n",
       "    <tr>\n",
       "      <th>1</th>\n",
       "      <td>MCL</td>\n",
       "      <td>Direct Channels</td>\n",
       "      <td>CEC</td>\n",
       "      <td>Cebu</td>\n",
       "      <td>JAN</td>\n",
       "      <td>0</td>\n",
       "    </tr>\n",
       "    <tr>\n",
       "      <th>2</th>\n",
       "      <td>MCL</td>\n",
       "      <td>Direct Channels</td>\n",
       "      <td>CEC</td>\n",
       "      <td>Cagayan de Oro</td>\n",
       "      <td>JAN</td>\n",
       "      <td>0</td>\n",
       "    </tr>\n",
       "    <tr>\n",
       "      <th>3</th>\n",
       "      <td>MCL</td>\n",
       "      <td>Direct Channels</td>\n",
       "      <td>CEC</td>\n",
       "      <td>Bacolod</td>\n",
       "      <td>JAN</td>\n",
       "      <td>0</td>\n",
       "    </tr>\n",
       "    <tr>\n",
       "      <th>4</th>\n",
       "      <td>MCL</td>\n",
       "      <td>Direct Channels</td>\n",
       "      <td>CEC</td>\n",
       "      <td>Gensan</td>\n",
       "      <td>JAN</td>\n",
       "      <td>0</td>\n",
       "    </tr>\n",
       "  </tbody>\n",
       "</table>\n",
       "</div>"
      ],
      "text/plain": [
       "  Insurance Type         Channels Company          Office Month  Sales\n",
       "0            MCL  Direct Channels     CEC     Head Office   JAN      6\n",
       "1            MCL  Direct Channels     CEC            Cebu   JAN      0\n",
       "2            MCL  Direct Channels     CEC  Cagayan de Oro   JAN      0\n",
       "3            MCL  Direct Channels     CEC         Bacolod   JAN      0\n",
       "4            MCL  Direct Channels     CEC          Gensan   JAN      0"
      ]
     },
     "execution_count": 12,
     "metadata": {},
     "output_type": "execute_result"
    }
   ],
   "source": [
    "MCL['Insurance Type'] = 'MCL'\n",
    "cols = MCL.columns.tolist()\n",
    "cols = cols[-1:] + cols[:-1]\n",
    "MCL = MCL[cols]\n",
    "MCL.head()"
   ]
  },
  {
   "cell_type": "code",
   "execution_count": 13,
   "metadata": {},
   "outputs": [],
   "source": [
    "merge = MCD.append(MCL, ignore_index = True)"
   ]
  },
  {
   "cell_type": "code",
   "execution_count": 14,
   "metadata": {},
   "outputs": [
    {
     "data": {
      "text/html": [
       "<div>\n",
       "<style scoped>\n",
       "    .dataframe tbody tr th:only-of-type {\n",
       "        vertical-align: middle;\n",
       "    }\n",
       "\n",
       "    .dataframe tbody tr th {\n",
       "        vertical-align: top;\n",
       "    }\n",
       "\n",
       "    .dataframe thead th {\n",
       "        text-align: right;\n",
       "    }\n",
       "</style>\n",
       "<table border=\"1\" class=\"dataframe\">\n",
       "  <thead>\n",
       "    <tr style=\"text-align: right;\">\n",
       "      <th></th>\n",
       "      <th>Insurance Type</th>\n",
       "      <th>Channels</th>\n",
       "      <th>Company</th>\n",
       "      <th>Office</th>\n",
       "      <th>Month</th>\n",
       "      <th>Sales</th>\n",
       "    </tr>\n",
       "  </thead>\n",
       "  <tbody>\n",
       "    <tr>\n",
       "      <th>0</th>\n",
       "      <td>MCD</td>\n",
       "      <td>Direct Channels</td>\n",
       "      <td>CEC</td>\n",
       "      <td>Head Office</td>\n",
       "      <td>JAN</td>\n",
       "      <td>69</td>\n",
       "    </tr>\n",
       "    <tr>\n",
       "      <th>1</th>\n",
       "      <td>MCD</td>\n",
       "      <td>Direct Channels</td>\n",
       "      <td>CEC</td>\n",
       "      <td>Cebu</td>\n",
       "      <td>JAN</td>\n",
       "      <td>12</td>\n",
       "    </tr>\n",
       "    <tr>\n",
       "      <th>2</th>\n",
       "      <td>MCD</td>\n",
       "      <td>Direct Channels</td>\n",
       "      <td>CEC</td>\n",
       "      <td>Cagayan de Oro</td>\n",
       "      <td>JAN</td>\n",
       "      <td>44</td>\n",
       "    </tr>\n",
       "    <tr>\n",
       "      <th>3</th>\n",
       "      <td>MCD</td>\n",
       "      <td>Direct Channels</td>\n",
       "      <td>CEC</td>\n",
       "      <td>Bacolod</td>\n",
       "      <td>JAN</td>\n",
       "      <td>6</td>\n",
       "    </tr>\n",
       "    <tr>\n",
       "      <th>4</th>\n",
       "      <td>MCD</td>\n",
       "      <td>Direct Channels</td>\n",
       "      <td>CEC</td>\n",
       "      <td>Gensan</td>\n",
       "      <td>JAN</td>\n",
       "      <td>0</td>\n",
       "    </tr>\n",
       "  </tbody>\n",
       "</table>\n",
       "</div>"
      ],
      "text/plain": [
       "  Insurance Type         Channels Company          Office Month  Sales\n",
       "0            MCD  Direct Channels     CEC     Head Office   JAN     69\n",
       "1            MCD  Direct Channels     CEC            Cebu   JAN     12\n",
       "2            MCD  Direct Channels     CEC  Cagayan de Oro   JAN     44\n",
       "3            MCD  Direct Channels     CEC         Bacolod   JAN      6\n",
       "4            MCD  Direct Channels     CEC          Gensan   JAN      0"
      ]
     },
     "execution_count": 14,
     "metadata": {},
     "output_type": "execute_result"
    }
   ],
   "source": [
    "merge.head()"
   ]
  },
  {
   "cell_type": "code",
   "execution_count": 15,
   "metadata": {},
   "outputs": [
    {
     "data": {
      "text/plain": [
       "1992"
      ]
     },
     "execution_count": 15,
     "metadata": {},
     "output_type": "execute_result"
    }
   ],
   "source": [
    "len(merge)"
   ]
  },
  {
   "cell_type": "code",
   "execution_count": 16,
   "metadata": {},
   "outputs": [
    {
     "data": {
      "text/plain": [
       "1044"
      ]
     },
     "execution_count": 16,
     "metadata": {},
     "output_type": "execute_result"
    }
   ],
   "source": [
    "len(MCD)"
   ]
  },
  {
   "cell_type": "code",
   "execution_count": 17,
   "metadata": {},
   "outputs": [
    {
     "data": {
      "text/plain": [
       "948"
      ]
     },
     "execution_count": 17,
     "metadata": {},
     "output_type": "execute_result"
    }
   ],
   "source": [
    "len(MCL)"
   ]
  },
  {
   "cell_type": "code",
   "execution_count": null,
   "metadata": {},
   "outputs": [],
   "source": [
    "merge.to_csv('Pioneer_Insurance.csv')"
   ]
  }
 ],
 "metadata": {
  "kernelspec": {
   "display_name": "Python 3",
   "language": "python",
   "name": "python3"
  },
  "language_info": {
   "codemirror_mode": {
    "name": "ipython",
    "version": 3
   },
   "file_extension": ".py",
   "mimetype": "text/x-python",
   "name": "python",
   "nbconvert_exporter": "python",
   "pygments_lexer": "ipython3",
   "version": "3.7.3"
  }
 },
 "nbformat": 4,
 "nbformat_minor": 2
}
